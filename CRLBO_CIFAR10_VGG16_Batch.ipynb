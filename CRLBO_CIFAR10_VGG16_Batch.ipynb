{
  "nbformat": 4,
  "nbformat_minor": 0,
  "metadata": {
    "kernelspec": {
      "name": "python3",
      "display_name": "Python 3"
    },
    "language_info": {
      "codemirror_mode": {
        "name": "ipython",
        "version": 3
      },
      "file_extension": ".py",
      "mimetype": "text/x-python",
      "name": "python",
      "nbconvert_exporter": "python",
      "pygments_lexer": "ipython3",
      "version": "3.5.0"
    },
    "colab": {
      "name": "CRLBO_VGG16_Testing_(1) (1).ipynb",
      "provenance": [],
      "collapsed_sections": [],
      "toc_visible": true,
      "machine_shape": "hm"
    },
    "accelerator": "GPU",
    "widgets": {
      "application/vnd.jupyter.widget-state+json": {
        "f069ef393d8149e5b225851ac4d14cef": {
          "model_module": "@jupyter-widgets/controls",
          "model_name": "HBoxModel",
          "state": {
            "_view_name": "HBoxView",
            "_dom_classes": [],
            "_model_name": "HBoxModel",
            "_view_module": "@jupyter-widgets/controls",
            "_model_module_version": "1.5.0",
            "_view_count": null,
            "_view_module_version": "1.5.0",
            "box_style": "",
            "layout": "IPY_MODEL_464894460e304914b6dd6d5f26cba5cf",
            "_model_module": "@jupyter-widgets/controls",
            "children": [
              "IPY_MODEL_90c65a45957146be939ebe79e5a6618d",
              "IPY_MODEL_5cd78e7a75ee4512890fafc06256e488"
            ]
          }
        },
        "464894460e304914b6dd6d5f26cba5cf": {
          "model_module": "@jupyter-widgets/base",
          "model_name": "LayoutModel",
          "state": {
            "_view_name": "LayoutView",
            "grid_template_rows": null,
            "right": null,
            "justify_content": null,
            "_view_module": "@jupyter-widgets/base",
            "overflow": null,
            "_model_module_version": "1.2.0",
            "_view_count": null,
            "flex_flow": null,
            "width": null,
            "min_width": null,
            "border": null,
            "align_items": null,
            "bottom": null,
            "_model_module": "@jupyter-widgets/base",
            "top": null,
            "grid_column": null,
            "overflow_y": null,
            "overflow_x": null,
            "grid_auto_flow": null,
            "grid_area": null,
            "grid_template_columns": null,
            "flex": null,
            "_model_name": "LayoutModel",
            "justify_items": null,
            "grid_row": null,
            "max_height": null,
            "align_content": null,
            "visibility": null,
            "align_self": null,
            "height": null,
            "min_height": null,
            "padding": null,
            "grid_auto_rows": null,
            "grid_gap": null,
            "max_width": null,
            "order": null,
            "_view_module_version": "1.2.0",
            "grid_template_areas": null,
            "object_position": null,
            "object_fit": null,
            "grid_auto_columns": null,
            "margin": null,
            "display": null,
            "left": null
          }
        },
        "90c65a45957146be939ebe79e5a6618d": {
          "model_module": "@jupyter-widgets/controls",
          "model_name": "IntProgressModel",
          "state": {
            "_view_name": "ProgressView",
            "style": "IPY_MODEL_19b1e4600204413aab4705fae93c98d7",
            "_dom_classes": [],
            "description": "",
            "_model_name": "IntProgressModel",
            "bar_style": "success",
            "max": 1,
            "_view_module": "@jupyter-widgets/controls",
            "_model_module_version": "1.5.0",
            "value": 1,
            "_view_count": null,
            "_view_module_version": "1.5.0",
            "orientation": "horizontal",
            "min": 0,
            "description_tooltip": null,
            "_model_module": "@jupyter-widgets/controls",
            "layout": "IPY_MODEL_1778319a4f1a4a1b89a6f6950069395c"
          }
        },
        "5cd78e7a75ee4512890fafc06256e488": {
          "model_module": "@jupyter-widgets/controls",
          "model_name": "HTMLModel",
          "state": {
            "_view_name": "HTMLView",
            "style": "IPY_MODEL_2705a088955f430e93942c20bcd7b323",
            "_dom_classes": [],
            "description": "",
            "_model_name": "HTMLModel",
            "placeholder": "​",
            "_view_module": "@jupyter-widgets/controls",
            "_model_module_version": "1.5.0",
            "value": "170500096it [00:02, 67049938.74it/s]",
            "_view_count": null,
            "_view_module_version": "1.5.0",
            "description_tooltip": null,
            "_model_module": "@jupyter-widgets/controls",
            "layout": "IPY_MODEL_aeb6e08f514c4ed78ccd5d97a212c1d1"
          }
        },
        "19b1e4600204413aab4705fae93c98d7": {
          "model_module": "@jupyter-widgets/controls",
          "model_name": "ProgressStyleModel",
          "state": {
            "_view_name": "StyleView",
            "_model_name": "ProgressStyleModel",
            "description_width": "",
            "_view_module": "@jupyter-widgets/base",
            "_model_module_version": "1.5.0",
            "_view_count": null,
            "_view_module_version": "1.2.0",
            "bar_color": null,
            "_model_module": "@jupyter-widgets/controls"
          }
        },
        "1778319a4f1a4a1b89a6f6950069395c": {
          "model_module": "@jupyter-widgets/base",
          "model_name": "LayoutModel",
          "state": {
            "_view_name": "LayoutView",
            "grid_template_rows": null,
            "right": null,
            "justify_content": null,
            "_view_module": "@jupyter-widgets/base",
            "overflow": null,
            "_model_module_version": "1.2.0",
            "_view_count": null,
            "flex_flow": null,
            "width": null,
            "min_width": null,
            "border": null,
            "align_items": null,
            "bottom": null,
            "_model_module": "@jupyter-widgets/base",
            "top": null,
            "grid_column": null,
            "overflow_y": null,
            "overflow_x": null,
            "grid_auto_flow": null,
            "grid_area": null,
            "grid_template_columns": null,
            "flex": null,
            "_model_name": "LayoutModel",
            "justify_items": null,
            "grid_row": null,
            "max_height": null,
            "align_content": null,
            "visibility": null,
            "align_self": null,
            "height": null,
            "min_height": null,
            "padding": null,
            "grid_auto_rows": null,
            "grid_gap": null,
            "max_width": null,
            "order": null,
            "_view_module_version": "1.2.0",
            "grid_template_areas": null,
            "object_position": null,
            "object_fit": null,
            "grid_auto_columns": null,
            "margin": null,
            "display": null,
            "left": null
          }
        },
        "2705a088955f430e93942c20bcd7b323": {
          "model_module": "@jupyter-widgets/controls",
          "model_name": "DescriptionStyleModel",
          "state": {
            "_view_name": "StyleView",
            "_model_name": "DescriptionStyleModel",
            "description_width": "",
            "_view_module": "@jupyter-widgets/base",
            "_model_module_version": "1.5.0",
            "_view_count": null,
            "_view_module_version": "1.2.0",
            "_model_module": "@jupyter-widgets/controls"
          }
        },
        "aeb6e08f514c4ed78ccd5d97a212c1d1": {
          "model_module": "@jupyter-widgets/base",
          "model_name": "LayoutModel",
          "state": {
            "_view_name": "LayoutView",
            "grid_template_rows": null,
            "right": null,
            "justify_content": null,
            "_view_module": "@jupyter-widgets/base",
            "overflow": null,
            "_model_module_version": "1.2.0",
            "_view_count": null,
            "flex_flow": null,
            "width": null,
            "min_width": null,
            "border": null,
            "align_items": null,
            "bottom": null,
            "_model_module": "@jupyter-widgets/base",
            "top": null,
            "grid_column": null,
            "overflow_y": null,
            "overflow_x": null,
            "grid_auto_flow": null,
            "grid_area": null,
            "grid_template_columns": null,
            "flex": null,
            "_model_name": "LayoutModel",
            "justify_items": null,
            "grid_row": null,
            "max_height": null,
            "align_content": null,
            "visibility": null,
            "align_self": null,
            "height": null,
            "min_height": null,
            "padding": null,
            "grid_auto_rows": null,
            "grid_gap": null,
            "max_width": null,
            "order": null,
            "_view_module_version": "1.2.0",
            "grid_template_areas": null,
            "object_position": null,
            "object_fit": null,
            "grid_auto_columns": null,
            "margin": null,
            "display": null,
            "left": null
          }
        }
      }
    }
  },
  "cells": [
    {
      "cell_type": "markdown",
      "metadata": {
        "id": "UJ_lISQmOVFO",
        "colab_type": "text"
      },
      "source": [
        "Reference: https://www.kaggle.com/kernels/scriptcontent/7827075/download"
      ]
    },
    {
      "cell_type": "code",
      "metadata": {
        "id": "B7cWeVqfOW1o",
        "colab_type": "code",
        "outputId": "47cfcd36-0809-42fe-c665-37e8a897cf31",
        "colab": {
          "base_uri": "https://localhost:8080/",
          "height": 122
        }
      },
      "source": [
        "from google.colab import drive\n",
        "drive.mount('/content/drive')"
      ],
      "execution_count": 0,
      "outputs": [
        {
          "output_type": "stream",
          "text": [
            "Go to this URL in a browser: https://accounts.google.com/o/oauth2/auth?client_id=947318989803-6bn6qk8qdgf4n4g3pfee6491hc0brc4i.apps.googleusercontent.com&redirect_uri=urn%3aietf%3awg%3aoauth%3a2.0%3aoob&response_type=code&scope=email%20https%3a%2f%2fwww.googleapis.com%2fauth%2fdocs.test%20https%3a%2f%2fwww.googleapis.com%2fauth%2fdrive%20https%3a%2f%2fwww.googleapis.com%2fauth%2fdrive.photos.readonly%20https%3a%2f%2fwww.googleapis.com%2fauth%2fpeopleapi.readonly\n",
            "\n",
            "Enter your authorization code:\n",
            "··········\n",
            "Mounted at /content/drive\n"
          ],
          "name": "stdout"
        }
      ]
    },
    {
      "cell_type": "code",
      "metadata": {
        "_cell_guid": "b1076dfc-b9ad-4769-8c92-a6c4dae69d19",
        "_uuid": "8f2839f25d086af736a60e9eeb907d3b93b6e0e5",
        "id": "uxIkyyWGOVFR",
        "colab_type": "code",
        "colab": {}
      },
      "source": [
        "import os\n",
        "import json\n",
        "import pickle\n",
        "\n",
        "import numpy as np\n",
        "import pandas as pd\n",
        "import matplotlib.pyplot as plt"
      ],
      "execution_count": 0,
      "outputs": []
    },
    {
      "cell_type": "code",
      "metadata": {
        "id": "tXJ6tHbnJiiG",
        "colab_type": "code",
        "colab": {}
      },
      "source": [
        "import torch\n",
        "is_torchvision_installed = True\n",
        "try:\n",
        "    import torchvision\n",
        "except:\n",
        "    is_torchvision_installed = False\n",
        "import torch.utils.data\n",
        "import random\n",
        "\n",
        "class BalancedBatchSampler(torch.utils.data.sampler.Sampler):\n",
        "    def __init__(self, dataset, labels=None):\n",
        "        self.labels = labels\n",
        "        self.dataset = dict()\n",
        "        self.balanced_max = 0\n",
        "        # Save all the indices for all the classes\n",
        "        for idx in range(0, len(dataset)):\n",
        "            label = dataset[idx][1]\n",
        "            if label not in self.dataset:\n",
        "                self.dataset[label] = list()\n",
        "            self.dataset[label].append(idx)\n",
        "            self.balanced_max = len(self.dataset[label]) \\\n",
        "                if len(self.dataset[label]) > self.balanced_max else self.balanced_max\n",
        "        \n",
        "        # Oversample the classes with fewer elements than the max\n",
        "        for label in self.dataset:\n",
        "            while len(self.dataset[label]) < self.balanced_max:\n",
        "                self.dataset[label].append(random.choice(self.dataset[label]))\n",
        "        self.keys = list(self.dataset.keys())\n",
        "        self.currentkey = 0\n",
        "        self.indices = [-1]*len(self.keys)\n",
        "\n",
        "    def __iter__(self):\n",
        "        while self.indices[self.currentkey] < self.balanced_max - 1:\n",
        "            self.indices[self.currentkey] += 1\n",
        "            yield self.dataset[self.keys[self.currentkey]][self.indices[self.currentkey]]\n",
        "            self.currentkey = (self.currentkey + 1) % len(self.keys)\n",
        "        self.indices = [-1]*len(self.keys)\n",
        "    "
      ],
      "execution_count": 0,
      "outputs": []
    },
    {
      "cell_type": "code",
      "metadata": {
        "id": "XsVRmX7OXxBG",
        "colab_type": "code",
        "colab": {}
      },
      "source": [
        "import torch\n",
        "import torch.nn as nn\n",
        "import torch.nn.functional as F\n",
        "import torch.optim as optim\n",
        "from torch import autograd\n",
        "import numpy as np\n",
        "from torch.utils.data import DataLoader\n",
        "\n",
        "\n",
        "class CramerRaoLowerBound:\n",
        "\n",
        "    def __init__(self, model, crit, penalty, weight_decay_param, lr=0.001, weight=1000000):\n",
        "        self.model = model\n",
        "        self.weight = weight\n",
        "        self.crit = crit\n",
        "        if penalty in ('SGD', 'CRLBO'):\n",
        "            self.optimizer = optim.SGD(self.model.parameters(), lr)\n",
        "        elif penalty == 'L2':\n",
        "            self.optimizer = optim.SGD(self.model.parameters(), lr, weight_decay=weight_decay_param)\n",
        "\n",
        "    def forward_backward_update(self, input, target, penalty):\n",
        "        output = self.model(input.float().cuda()).detach().requires_grad_(True)\n",
        "        if penalty in ('SGD', 'L2'):\n",
        "            loss = self.crit(output, target)\n",
        "        elif penalty == 'CRLBO':\n",
        "            loss = self._compute_consolidation_loss(self.weight) + self.crit(output, target)\n",
        "        self.optimizer.zero_grad()\n",
        "        loss.backward()\n",
        "        self.optimizer.step()\n",
        "\n",
        "    def save(self, filename):\n",
        "        torch.save(self.model, filename)\n",
        "\n",
        "    def load(self, filename):\n",
        "        self.model = torch.load(filename)\n",
        "        \n",
        "    def _update_mean_params(self):\n",
        "        for param_name, param in self.model.named_parameters():\n",
        "            _buff_param_name = param_name.replace('.', '__')\n",
        "            self.model.register_buffer(_buff_param_name+'_estimated_mean', param.data.clone())\n",
        "\n",
        "    def _update_fisher_params(self, current_ds, batch_size, num_batch):\n",
        "        dl = DataLoader(current_ds, batch_size = 50, shuffle=True)\n",
        "        log_liklihoods = []\n",
        "        for i, (input, target) in enumerate(dl):\n",
        "            if i >= num_batch:\n",
        "                break\n",
        "            output = F.log_softmax(self.model(input.cuda().float()).detach().requires_grad_(True), dim=1)\n",
        "            log_liklihoods.append(output[:, target])\n",
        "        log_likelihood = torch.cat(log_liklihoods).mean()\n",
        "        grad_log_liklihood = autograd.grad(log_likelihood, self.model.parameters(), allow_unused=True)\n",
        "        _buff_param_names = [param[0].replace('.', '__') for param in self.model.named_parameters()]\n",
        "        if(grad_log_liklihood[0] is not None):\n",
        "            for _buff_param_name, param in zip(_buff_param_names, grad_log_liklihood):\n",
        "                self.model.register_buffer(_buff_param_name+'_estimated_fisher', param.data.clone() ** 2)\n",
        "\n",
        "    def register_crlbo_params(self, dataset, batch_size, num_batches):\n",
        "        self._update_fisher_params(dataset, batch_size, num_batches)\n",
        "        self._update_mean_params()\n",
        "\n",
        "    def _compute_consolidation_loss(self, weight):\n",
        "        try:\n",
        "            losses = []\n",
        "            for param_name, param in self.model.named_parameters():\n",
        "                _buff_param_name = param_name.replace('.', '__')\n",
        "                estimated_mean = getattr(self.model, '{}_estimated_mean'.format(_buff_param_name))\n",
        "                estimated_fisher = getattr(self.model, '{}_estimated_fisher'.format(_buff_param_name))\n",
        "                losses.append((estimated_fisher * (param - estimated_mean) ** 2).sum())\n",
        "            return (weight / 2) * sum(losses)\n",
        "        except AttributeError:\n",
        "            return 0\n"
      ],
      "execution_count": 0,
      "outputs": []
    },
    {
      "cell_type": "markdown",
      "metadata": {
        "_uuid": "df3306a72ebc14e4012847f53292292abadf2872",
        "id": "QWC8T3EAOVFZ",
        "colab_type": "text"
      },
      "source": [
        "Please visit the official website to find the dataset: https://www.cs.toronto.edu/~kriz/cifar.html"
      ]
    },
    {
      "cell_type": "code",
      "metadata": {
        "_uuid": "280bdfb64fc9c0d9e90f541a9cc4bc4823750e3d",
        "id": "9sPgH5dnOVFV",
        "colab_type": "code",
        "outputId": "f473f2b8-43aa-4b38-9d80-76e1d70a155a",
        "colab": {
          "base_uri": "https://localhost:8080/",
          "height": 151,
          "referenced_widgets": [
            "f069ef393d8149e5b225851ac4d14cef",
            "464894460e304914b6dd6d5f26cba5cf",
            "90c65a45957146be939ebe79e5a6618d",
            "5cd78e7a75ee4512890fafc06256e488",
            "19b1e4600204413aab4705fae93c98d7",
            "1778319a4f1a4a1b89a6f6950069395c",
            "2705a088955f430e93942c20bcd7b323",
            "aeb6e08f514c4ed78ccd5d97a212c1d1"
          ]
        }
      },
      "source": [
        "import torchvision\n",
        "import torch\n",
        "\n",
        "from torchvision import datasets, transforms\n",
        "\n",
        "print('Loading data...')\n",
        "\n",
        "# Image preprocessing, because VGG uses 224 * 224 size pictures, but CIFAR10 only has 32 * 32. In order to run the results faster,\n",
        "# We enlarged them to 96 * 96 instead of 224 * 224 of the original paper\n",
        "transform = transforms.Compose([\n",
        "    transforms.Resize(96),# Scale to 96 * 96 size\n",
        "    transforms.ToTensor(),\n",
        "    transforms.Normalize((0.5, 0.5, 0.5), (0.5, 0.5, 0.5)) # Normalized\n",
        "    # transforms.Normalize(mean=[0.485, 0.456, 0.406],\n",
        "    #                              std=[0.229, 0.224, 0.225])\n",
        "])\n",
        "\n",
        "trainset = torchvision.datasets.CIFAR10(root='./data', train=True,\n",
        "                                        download=True,\n",
        "                                        transform=transform)\n",
        "\n",
        "testset = torchvision.datasets.CIFAR10(root='./data', train=False,\n",
        "                                        download=True, transform=transform)\n",
        "\n",
        "print('Loading is Done!')"
      ],
      "execution_count": 0,
      "outputs": [
        {
          "output_type": "stream",
          "text": [
            "Loading data...\n",
            "Downloading https://www.cs.toronto.edu/~kriz/cifar-10-python.tar.gz to ./data/cifar-10-python.tar.gz\n"
          ],
          "name": "stdout"
        },
        {
          "output_type": "display_data",
          "data": {
            "application/vnd.jupyter.widget-view+json": {
              "model_id": "f069ef393d8149e5b225851ac4d14cef",
              "version_minor": 0,
              "version_major": 2
            },
            "text/plain": [
              "HBox(children=(IntProgress(value=1, bar_style='info', max=1), HTML(value='')))"
            ]
          },
          "metadata": {
            "tags": []
          }
        },
        {
          "output_type": "stream",
          "text": [
            "\n",
            "Extracting ./data/cifar-10-python.tar.gz to ./data\n",
            "Files already downloaded and verified\n",
            "Loading is Done!\n"
          ],
          "name": "stdout"
        }
      ]
    },
    {
      "cell_type": "code",
      "metadata": {
        "id": "UGTW796DTWlx",
        "colab_type": "code",
        "outputId": "830e6fb0-0dbc-4cd6-d5eb-eb7d061a555f",
        "colab": {
          "base_uri": "https://localhost:8080/",
          "height": 34
        }
      },
      "source": [
        "print('Total Images: ', len(trainset))"
      ],
      "execution_count": 0,
      "outputs": [
        {
          "output_type": "stream",
          "text": [
            "Total Images:  50000\n"
          ],
          "name": "stdout"
        }
      ]
    },
    {
      "cell_type": "code",
      "metadata": {
        "id": "EXay8JSRWf0I",
        "colab_type": "code",
        "outputId": "d3f6932f-3591-4862-87b1-5bb6f72edf55",
        "colab": {
          "base_uri": "https://localhost:8080/",
          "height": 34
        }
      },
      "source": [
        "num_classes = len(trainset.classes)\n",
        "print('No. of Classes: ', num_classes)"
      ],
      "execution_count": 0,
      "outputs": [
        {
          "output_type": "stream",
          "text": [
            "No. of Classes:  10\n"
          ],
          "name": "stdout"
        }
      ]
    },
    {
      "cell_type": "code",
      "metadata": {
        "id": "eAJW8KHGTeoj",
        "colab_type": "code",
        "outputId": "0f24392b-400e-437b-da06-3e158c3fadc1",
        "colab": {
          "base_uri": "https://localhost:8080/",
          "height": 54
        }
      },
      "source": [
        "print('Classes: ', trainset.class_to_idx)"
      ],
      "execution_count": 0,
      "outputs": [
        {
          "output_type": "stream",
          "text": [
            "Classes:  {'airplane': 0, 'automobile': 1, 'bird': 2, 'cat': 3, 'deer': 4, 'dog': 5, 'frog': 6, 'horse': 7, 'ship': 8, 'truck': 9}\n"
          ],
          "name": "stdout"
        }
      ]
    },
    {
      "cell_type": "code",
      "metadata": {
        "id": "T-zYgVPfXS4k",
        "colab_type": "code",
        "outputId": "35e9dece-d4e0-4c8e-df33-8eea080ea2bd",
        "colab": {
          "base_uri": "https://localhost:8080/",
          "height": 34
        }
      },
      "source": [
        "class_sample_counts = np.bincount(trainset.targets)\n",
        "print(class_sample_counts)"
      ],
      "execution_count": 0,
      "outputs": [
        {
          "output_type": "stream",
          "text": [
            "[5000 5000 5000 5000 5000 5000 5000 5000 5000 5000]\n"
          ],
          "name": "stdout"
        }
      ]
    },
    {
      "cell_type": "markdown",
      "metadata": {
        "_uuid": "adf5a9ba3f81d43e1b1e9f54ffa1a011b3e8e430",
        "id": "M3sJym7wOVFr",
        "colab_type": "text"
      },
      "source": [
        "### Viewing the datasets"
      ]
    },
    {
      "cell_type": "code",
      "metadata": {
        "_uuid": "789d2acbc088c6ff812a79ffa93d8d361df9d1b3",
        "id": "yvhVlqavOVFu",
        "colab_type": "code",
        "colab": {}
      },
      "source": [
        "# fig = plt.figure(figsize=(14,10))\n",
        "\n",
        "# for n in range(1, 10):\n",
        "#   fig.add_subplot(4, 7, n)\n",
        "#   img = trainset.data[n]\n",
        "#   plt.imshow(img)\n",
        "#   plt.title(trainset.classes[trainset.targets[n]])\n",
        "#   plt.axis('off')"
      ],
      "execution_count": 0,
      "outputs": []
    },
    {
      "cell_type": "code",
      "metadata": {
        "id": "2AFzdwPHsTQJ",
        "colab_type": "code",
        "outputId": "facc73fa-6626-4d93-9d35-0876fca6a5ab",
        "colab": {
          "base_uri": "https://localhost:8080/",
          "height": 34
        }
      },
      "source": [
        "len(trainset)"
      ],
      "execution_count": 0,
      "outputs": [
        {
          "output_type": "execute_result",
          "data": {
            "text/plain": [
              "50000"
            ]
          },
          "metadata": {
            "tags": []
          },
          "execution_count": 11
        }
      ]
    },
    {
      "cell_type": "code",
      "metadata": {
        "id": "7NOF0OwVLXo1",
        "colab_type": "code",
        "outputId": "fe1c61d5-3a22-41fc-96b0-43f2315822dd",
        "colab": {
          "base_uri": "https://localhost:8080/",
          "height": 34
        }
      },
      "source": [
        "batches = 20\n",
        "\n",
        "train_batch_size_ = int(len(trainset) / batches)\n",
        "print('Train Batch size: ', train_batch_size_)"
      ],
      "execution_count": 0,
      "outputs": [
        {
          "output_type": "stream",
          "text": [
            "Train Batch size:  2500\n"
          ],
          "name": "stdout"
        }
      ]
    },
    {
      "cell_type": "code",
      "metadata": {
        "id": "vkPRd-dQsWvf",
        "colab_type": "code",
        "outputId": "5ac6a145-1328-4d71-c086-0efa9f6bfa96",
        "colab": {
          "base_uri": "https://localhost:8080/",
          "height": 34
        }
      },
      "source": [
        "test_batch_size_ = int(len(testset) / batches)\n",
        "print('Test Batch size', test_batch_size_)"
      ],
      "execution_count": 0,
      "outputs": [
        {
          "output_type": "stream",
          "text": [
            "Test Batch size 500\n"
          ],
          "name": "stdout"
        }
      ]
    },
    {
      "cell_type": "code",
      "metadata": {
        "id": "TASz1lRq6Fq0",
        "colab_type": "code",
        "colab": {}
      },
      "source": [
        "train_loader = torch.utils.data.DataLoader(trainset, batch_size=train_batch_size_,sampler=BalancedBatchSampler(trainset, list(trainset.class_to_idx.values())), shuffle=False, num_workers = 4)\n",
        "test_loader = torch.utils.data.DataLoader(testset, batch_size=test_batch_size_, sampler=BalancedBatchSampler(testset, list(testset.class_to_idx.values())), shuffle=False, num_workers = 4)\n",
        "\n"
      ],
      "execution_count": 0,
      "outputs": []
    },
    {
      "cell_type": "code",
      "metadata": {
        "id": "2o9te6CDUPfn",
        "colab_type": "code",
        "outputId": "5b7d10d7-d11d-4e85-a1e1-1be9bc9b9631",
        "colab": {
          "base_uri": "https://localhost:8080/",
          "height": 34
        }
      },
      "source": [
        "for images, labels in train_loader:\n",
        "  print(images.shape)\n",
        "  break"
      ],
      "execution_count": 0,
      "outputs": [
        {
          "output_type": "stream",
          "text": [
            "torch.Size([2500, 3, 96, 96])\n"
          ],
          "name": "stdout"
        }
      ]
    },
    {
      "cell_type": "markdown",
      "metadata": {
        "_uuid": "5fa5719d4a2f50d98cbb76e9974922c51baf0179",
        "id": "G6tWsZWtOVF3",
        "colab_type": "text"
      },
      "source": [
        "## Load and Compile the Model"
      ]
    },
    {
      "cell_type": "code",
      "metadata": {
        "id": "vzob87fbWQhq",
        "colab_type": "code",
        "colab": {}
      },
      "source": [
        "from torch.autograd import Variable\n",
        "\n",
        "# Hyperparameter\n",
        "EPOCH = 100\n",
        "learning_rate = 0.001\n",
        "\n",
        "# Whether to use GPU\n",
        "use_gpu = True\n",
        "\n",
        "\n",
        "class VGG(nn.Module):\n",
        "    '''\n",
        "    VGG model\n",
        "    '''\n",
        "    def __init__(self, conv_features):\n",
        "        super(VGG, self).__init__()\n",
        "        self.conv_features = conv_features\n",
        "        self.classifier = nn.Sequential(\n",
        "            nn.Dropout(),\n",
        "            nn.Linear(73728, 512), \n",
        "            nn.ReLU(True),\n",
        "            nn.Dropout(),\n",
        "            # nn.Linear(512, 512),\n",
        "            # nn.ReLU(True),\n",
        "            nn.Linear(512, 10),\n",
        "        )\n",
        "\n",
        "    def forward(self, x):\n",
        "        x = self.conv_features(x)\n",
        "        x = x.view(x.size(0), -1)\n",
        "        x = self.classifier(x)\n",
        "        return x\n",
        "\n",
        "# Build the conv layer of the loop\n",
        "def make_layers(struct, in_channels=1, batch_norm=False):\n",
        "    layers = []\n",
        "    for out_channels in struct:\n",
        "        if out_channels == 'pooling':\n",
        "            layers += [nn.MaxPool2d(kernel_size=2, stride=2)]\n",
        "        else:\n",
        "            conv2d = nn.Conv2d(in_channels, out_channels, kernel_size=3, padding=1)\n",
        "            if batch_norm:\n",
        "                layers += [conv2d, nn.BatchNorm2d(out_channels), nn.ReLU(inplace=True)]\n",
        "            else:\n",
        "                layers += [conv2d, nn.ReLU(inplace=True)]\n",
        "            in_channels = out_channels\n",
        "    return nn.Sequential(*layers)\n"
      ],
      "execution_count": 0,
      "outputs": []
    },
    {
      "cell_type": "code",
      "metadata": {
        "id": "Y16l_0tcWUHy",
        "colab_type": "code",
        "colab": {}
      },
      "source": [
        "crit = nn.CrossEntropyLoss()"
      ],
      "execution_count": 0,
      "outputs": []
    },
    {
      "cell_type": "code",
      "metadata": {
        "id": "vcoLilUoWVVD",
        "colab_type": "code",
        "colab": {}
      },
      "source": [
        "# Model initialization\n",
        "vgg_conv_layers = [64, 64, 'pooling', \n",
        "                   128, 128, 'pooling'\n",
        "                  #  , \n",
        "                  #  256, 256, 256, 'pooling', \n",
        "                  #  512, 512, 512, 'pooling', \n",
        "                  #  512, 512, 512, 'pooling'\n",
        "                   ]\n",
        "\n",
        "# Initial channel-three channels\n",
        "vgg16 = VGG(make_layers(vgg_conv_layers, in_channels=3))\n",
        "\n"
      ],
      "execution_count": 0,
      "outputs": []
    },
    {
      "cell_type": "code",
      "metadata": {
        "id": "wHUvPygwpc8A",
        "colab_type": "code",
        "outputId": "2621a54d-8ea2-4eda-a1b5-0a95dcbe2b76",
        "colab": {
          "base_uri": "https://localhost:8080/",
          "height": 374
        }
      },
      "source": [
        "# Whether to use GPU\n",
        "if use_gpu:\n",
        "    vgg16 = vgg16.cuda()\n",
        "\n",
        "penalty_ = 'CRLBO' #Penalty = 'SGD', 'CRLBO', 'L2'\n",
        "crlbo = CramerRaoLowerBound(vgg16, crit=crit, penalty = penalty_, weight_decay_param = 0.1, lr=1e-4, weight=1000000)\n",
        "print('Model Specs: ', crlbo.model.train())"
      ],
      "execution_count": 0,
      "outputs": [
        {
          "output_type": "stream",
          "text": [
            "Model Specs:  VGG(\n",
            "  (conv_features): Sequential(\n",
            "    (0): Conv2d(3, 64, kernel_size=(3, 3), stride=(1, 1), padding=(1, 1))\n",
            "    (1): ReLU(inplace=True)\n",
            "    (2): Conv2d(64, 64, kernel_size=(3, 3), stride=(1, 1), padding=(1, 1))\n",
            "    (3): ReLU(inplace=True)\n",
            "    (4): MaxPool2d(kernel_size=2, stride=2, padding=0, dilation=1, ceil_mode=False)\n",
            "    (5): Conv2d(64, 128, kernel_size=(3, 3), stride=(1, 1), padding=(1, 1))\n",
            "    (6): ReLU(inplace=True)\n",
            "    (7): Conv2d(128, 128, kernel_size=(3, 3), stride=(1, 1), padding=(1, 1))\n",
            "    (8): ReLU(inplace=True)\n",
            "    (9): MaxPool2d(kernel_size=2, stride=2, padding=0, dilation=1, ceil_mode=False)\n",
            "  )\n",
            "  (classifier): Sequential(\n",
            "    (0): Dropout(p=0.5, inplace=False)\n",
            "    (1): Linear(in_features=73728, out_features=512, bias=True)\n",
            "    (2): ReLU(inplace=True)\n",
            "    (3): Dropout(p=0.5, inplace=False)\n",
            "    (4): Linear(in_features=512, out_features=10, bias=True)\n",
            "  )\n",
            ")\n"
          ],
          "name": "stdout"
        }
      ]
    },
    {
      "cell_type": "markdown",
      "metadata": {
        "_uuid": "f3df3dc7dc3cabc906535647db888252b4cd6e95",
        "id": "RKLuV7ScOVGD",
        "colab_type": "text"
      },
      "source": [
        "## Training the model"
      ]
    },
    {
      "cell_type": "code",
      "metadata": {
        "id": "xMuqellYk49c",
        "colab_type": "code",
        "colab": {}
      },
      "source": [
        "import warnings\n",
        "warnings.filterwarnings(\"ignore\")\n",
        "\n",
        "model_files_path = r'\\content\\drive\\My Drive\\Colab Notebooks\\Models'\n",
        "# crlbo.save(model_files_path + '\\\\' + penalty_ + '_batch_' + str(10011) + '.h5')"
      ],
      "execution_count": 0,
      "outputs": []
    },
    {
      "cell_type": "code",
      "metadata": {
        "id": "jJ3cZ-CdWRVy",
        "colab_type": "code",
        "outputId": "f39c33cb-d05c-498e-e6fb-d3659004dd22",
        "colab": {
          "base_uri": "https://localhost:8080/",
          "height": 1000
        }
      },
      "source": [
        "from tqdm import tqdm\n",
        "\n",
        "i = 0\n",
        "j = 0\n",
        "result = {} \n",
        "\n",
        "for images, labels in tqdm(train_loader):\n",
        "    images = Variable(images)\n",
        "    labels = Variable(labels)\n",
        "    \n",
        "    print('\\n' , 'Train Batch -  ' , i, '--', np.bincount(labels) , 'Train Batch size: ' , images.shape[0])\n",
        "    \n",
        "    train_key = 'train_batch_' + str(i)\n",
        "    result[i] = train_key\n",
        "\n",
        "    if use_gpu:\n",
        "        images = images.float().cuda()\n",
        "        labels = labels.cuda()\n",
        "    \n",
        "    step = 50\n",
        "    for mini_batch in range(0, images.shape[0], step):\n",
        "        img, lbl  = images[mini_batch:mini_batch + step], labels[mini_batch:mini_batch + step]\n",
        "        for epoch in range(EPOCH):\n",
        "            torch.cuda.empty_cache()\n",
        "            total = 0\n",
        "            correct = 0\n",
        "            crlbo.forward_backward_update(img, lbl, penalty_)\n",
        "\n",
        "            # Calculate training accuracy\n",
        "            y_pred = crlbo.model(img) \n",
        "            _, predicted = torch.max(y_pred.data, 1)\n",
        "            total += lbl.size(0)\n",
        "            correct += (predicted == lbl.data).sum()\n",
        "            \n",
        "    if epoch == EPOCH-1:\n",
        "        print('Accuracy of the model on the train images: %d %%' % (100 * correct / total), 'Epoch : ', epoch, 'Mini Batch processed - ' , mini_batch , ' /', images.shape[0] )\n",
        "\n",
        "    with torch.no_grad():\n",
        "        test_loader = torch.utils.data.DataLoader(testset, batch_size=test_batch_size_, sampler=BalancedBatchSampler(testset, list(testset.class_to_idx.values())), shuffle=False, num_workers = 4)\n",
        "        for test_images, test_labels in tqdm(test_loader):\n",
        "          \n",
        "            # Test\n",
        "            model = crlbo.model.eval()\n",
        "\n",
        "            correct = 0\n",
        "            total = 0\n",
        "\n",
        "            if use_gpu:\n",
        "                test_images = test_images.cuda()\n",
        "                test_labels = test_labels.cuda()\n",
        "            y_pred = model(test_images)\n",
        "            _, predicted = torch.max(y_pred.data, 1)\n",
        "            total += test_labels.size(0)\n",
        "            temp = (predicted == test_labels.data).sum()\n",
        "            correct += temp\n",
        "\n",
        "            acc = (100 * correct / total)\n",
        "            test_key = 'test_batch_' + str(j)\n",
        "            result[j] = test_key\n",
        "            result[train_key+'_'+test_key] = acc\n",
        "\n",
        "            print('\\n' , 'Test Batch ', j, ' : Accuracy: %d %%' % acc)\n",
        "            \n",
        "            if(i == j):\n",
        "              break\n",
        "\n",
        "            j = j + 1  \n",
        "    \n",
        "\n",
        "    i = i + 1\n",
        "    j = 0\n",
        "\n",
        "    if penalty_ == 'CRLBO':\n",
        "      crlbo.register_crlbo_params(trainset, 50, 10)\n",
        "    \n",
        "    # crlbo.save(model_files_path + '\\\\' + penalty_ + '_batch_' + str(i) + '.h5')\n",
        "    "
      ],
      "execution_count": 0,
      "outputs": [
        {
          "output_type": "stream",
          "text": [
            "\r0it [00:00, ?it/s]"
          ],
          "name": "stderr"
        },
        {
          "output_type": "stream",
          "text": [
            "\n",
            " Train Batch -   0 -- [250 250 250 250 250 250 250 250 250 250] Train Batch size:  2500\n",
            "Accuracy of the model on the train images: 8 % Epoch :  99 Mini Batch processed -  2450  / 2500\n"
          ],
          "name": "stdout"
        },
        {
          "output_type": "stream",
          "text": [
            "\n",
            "0it [00:00, ?it/s]\u001b[A"
          ],
          "name": "stderr"
        },
        {
          "output_type": "stream",
          "text": [
            "\n",
            " Test Batch  0  : Accuracy: 9 %\n"
          ],
          "name": "stdout"
        },
        {
          "output_type": "stream",
          "text": [
            "\n",
            "1it [03:55, 235.33s/it]"
          ],
          "name": "stderr"
        },
        {
          "output_type": "stream",
          "text": [
            "\n",
            " Train Batch -   1 -- [250 250 250 250 250 250 250 250 250 250] Train Batch size:  2500\n",
            "Accuracy of the model on the train images: 12 % Epoch :  99 Mini Batch processed -  2450  / 2500\n"
          ],
          "name": "stdout"
        },
        {
          "output_type": "stream",
          "text": [
            "\n",
            "0it [00:00, ?it/s]\u001b[A\n",
            "1it [00:00,  1.15it/s]\u001b[A"
          ],
          "name": "stderr"
        },
        {
          "output_type": "stream",
          "text": [
            "\n",
            " Test Batch  0  : Accuracy: 9 %\n",
            "\n",
            " Test Batch  1  : Accuracy: 8 %\n"
          ],
          "name": "stdout"
        },
        {
          "output_type": "stream",
          "text": [
            "\r2it [07:02, 220.89s/it]"
          ],
          "name": "stderr"
        },
        {
          "output_type": "stream",
          "text": [
            "\n",
            " Train Batch -   2 -- [250 250 250 250 250 250 250 250 250 250] Train Batch size:  2500\n",
            "Accuracy of the model on the train images: 12 % Epoch :  99 Mini Batch processed -  2450  / 2500\n"
          ],
          "name": "stdout"
        },
        {
          "output_type": "stream",
          "text": [
            "\n",
            "\n",
            "0it [00:00, ?it/s]\u001b[A\u001b[A\n",
            "\n",
            "1it [00:00,  1.16it/s]\u001b[A\u001b[A\n",
            "\n",
            "2it [00:01,  1.51it/s]\u001b[A\u001b[A"
          ],
          "name": "stderr"
        },
        {
          "output_type": "stream",
          "text": [
            "\n",
            " Test Batch  0  : Accuracy: 9 %\n",
            "\n",
            " Test Batch  1  : Accuracy: 8 %\n",
            "\n",
            " Test Batch  2  : Accuracy: 9 %\n"
          ],
          "name": "stdout"
        },
        {
          "output_type": "stream",
          "text": [
            "\n",
            "\n",
            "3it [09:58, 207.47s/it]"
          ],
          "name": "stderr"
        },
        {
          "output_type": "stream",
          "text": [
            "\n",
            " Train Batch -   3 -- [250 250 250 250 250 250 250 250 250 250] Train Batch size:  2500\n",
            "Accuracy of the model on the train images: 10 % Epoch :  99 Mini Batch processed -  2450  / 2500\n"
          ],
          "name": "stdout"
        },
        {
          "output_type": "stream",
          "text": [
            "\n",
            "\n",
            "0it [00:00, ?it/s]\u001b[A\u001b[A\n",
            "\n",
            "1it [00:00,  1.21it/s]\u001b[A\u001b[A\n",
            "\n",
            "2it [00:01,  1.57it/s]\u001b[A\u001b[A"
          ],
          "name": "stderr"
        },
        {
          "output_type": "stream",
          "text": [
            "\n",
            " Test Batch  0  : Accuracy: 9 %\n",
            "\n",
            " Test Batch  1  : Accuracy: 8 %\n"
          ],
          "name": "stdout"
        },
        {
          "output_type": "stream",
          "text": [
            "\n",
            "\n",
            "3it [00:01,  2.00it/s]\u001b[A\u001b[A"
          ],
          "name": "stderr"
        },
        {
          "output_type": "stream",
          "text": [
            "\n",
            " Test Batch  2  : Accuracy: 9 %\n",
            "\n",
            " Test Batch  3  : Accuracy: 9 %\n"
          ],
          "name": "stdout"
        },
        {
          "output_type": "stream",
          "text": [
            "\n",
            "\n",
            "4it [13:07, 202.02s/it]"
          ],
          "name": "stderr"
        },
        {
          "output_type": "stream",
          "text": [
            "\n",
            " Train Batch -   4 -- [250 250 250 250 250 250 250 250 250 250] Train Batch size:  2500\n",
            "Accuracy of the model on the train images: 6 % Epoch :  99 Mini Batch processed -  2450  / 2500\n"
          ],
          "name": "stdout"
        },
        {
          "output_type": "stream",
          "text": [
            "\n",
            "\n",
            "0it [00:00, ?it/s]\u001b[A\u001b[A\n",
            "\n",
            "1it [00:00,  1.17it/s]\u001b[A\u001b[A"
          ],
          "name": "stderr"
        },
        {
          "output_type": "stream",
          "text": [
            "\n",
            " Test Batch  0  : Accuracy: 9 %\n"
          ],
          "name": "stdout"
        },
        {
          "output_type": "stream",
          "text": [
            "\n",
            "\n",
            "2it [00:01,  1.51it/s]\u001b[A\u001b[A"
          ],
          "name": "stderr"
        },
        {
          "output_type": "stream",
          "text": [
            "\n",
            " Test Batch  1  : Accuracy: 8 %\n"
          ],
          "name": "stdout"
        },
        {
          "output_type": "stream",
          "text": [
            "\n",
            "\n",
            "3it [00:01,  1.90it/s]\u001b[A\u001b[A"
          ],
          "name": "stderr"
        },
        {
          "output_type": "stream",
          "text": [
            "\n",
            " Test Batch  2  : Accuracy: 9 %\n"
          ],
          "name": "stdout"
        },
        {
          "output_type": "stream",
          "text": [
            "\n",
            "\n",
            "4it [00:01,  2.32it/s]\u001b[A\u001b[A"
          ],
          "name": "stderr"
        },
        {
          "output_type": "stream",
          "text": [
            "\n",
            " Test Batch  3  : Accuracy: 9 %\n",
            "\n",
            " Test Batch  4  : Accuracy: 9 %\n"
          ],
          "name": "stdout"
        },
        {
          "output_type": "stream",
          "text": [
            "\n",
            "\n",
            "5it [16:28, 201.44s/it]"
          ],
          "name": "stderr"
        },
        {
          "output_type": "stream",
          "text": [
            "\n",
            " Train Batch -   5 -- [250 250 250 250 250 250 250 250 250 250] Train Batch size:  2500\n",
            "Accuracy of the model on the train images: 10 % Epoch :  99 Mini Batch processed -  2450  / 2500\n"
          ],
          "name": "stdout"
        },
        {
          "output_type": "stream",
          "text": [
            "\n",
            "\n",
            "0it [00:00, ?it/s]\u001b[A\u001b[A\n",
            "\n",
            "1it [00:00,  1.20it/s]\u001b[A\u001b[A"
          ],
          "name": "stderr"
        },
        {
          "output_type": "stream",
          "text": [
            "\n",
            " Test Batch  0  : Accuracy: 9 %\n"
          ],
          "name": "stdout"
        },
        {
          "output_type": "stream",
          "text": [
            "\n",
            "\n",
            "2it [00:01,  1.54it/s]\u001b[A\u001b[A"
          ],
          "name": "stderr"
        },
        {
          "output_type": "stream",
          "text": [
            "\n",
            " Test Batch  1  : Accuracy: 8 %\n"
          ],
          "name": "stdout"
        },
        {
          "output_type": "stream",
          "text": [
            "\n",
            "\n",
            "3it [00:01,  1.93it/s]\u001b[A\u001b[A\n",
            "\n",
            "4it [00:01,  2.39it/s]\u001b[A\u001b[A"
          ],
          "name": "stderr"
        },
        {
          "output_type": "stream",
          "text": [
            "\n",
            " Test Batch  2  : Accuracy: 9 %\n",
            "\n",
            " Test Batch  3  : Accuracy: 9 %\n"
          ],
          "name": "stdout"
        },
        {
          "output_type": "stream",
          "text": [
            "\n",
            "\n",
            "5it [00:01,  2.80it/s]\u001b[A\u001b[A"
          ],
          "name": "stderr"
        },
        {
          "output_type": "stream",
          "text": [
            "\n",
            " Test Batch  4  : Accuracy: 9 %\n",
            "\n",
            " Test Batch  5  : Accuracy: 10 %\n"
          ],
          "name": "stdout"
        },
        {
          "output_type": "stream",
          "text": [
            "\n",
            "\n",
            "6it [19:37, 197.85s/it]"
          ],
          "name": "stderr"
        },
        {
          "output_type": "stream",
          "text": [
            "\n",
            " Train Batch -   6 -- [250 250 250 250 250 250 250 250 250 250] Train Batch size:  2500\n",
            "Accuracy of the model on the train images: 8 % Epoch :  99 Mini Batch processed -  2450  / 2500\n"
          ],
          "name": "stdout"
        },
        {
          "output_type": "stream",
          "text": [
            "\n",
            "\n",
            "0it [00:00, ?it/s]\u001b[A\u001b[A\n",
            "\n",
            "1it [00:00,  1.16it/s]\u001b[A\u001b[A"
          ],
          "name": "stderr"
        },
        {
          "output_type": "stream",
          "text": [
            "\n",
            " Test Batch  0  : Accuracy: 9 %\n",
            "\n",
            " Test Batch  1  : Accuracy: 8 %\n"
          ],
          "name": "stdout"
        },
        {
          "output_type": "stream",
          "text": [
            "\n",
            "\n",
            "2it [00:01,  1.51it/s]\u001b[A\u001b[A\n",
            "\n",
            "3it [00:01,  1.90it/s]\u001b[A\u001b[A\n",
            "\n"
          ],
          "name": "stderr"
        },
        {
          "output_type": "stream",
          "text": [
            "\n",
            " Test Batch  2  : Accuracy: 9 %\n",
            "\n",
            " Test Batch  3  : Accuracy: 9 %\n"
          ],
          "name": "stdout"
        },
        {
          "output_type": "stream",
          "text": [
            "\r4it [00:01,  2.35it/s]\u001b[A\u001b[A\n",
            "\n",
            "5it [00:01,  2.77it/s]\u001b[A\u001b[A"
          ],
          "name": "stderr"
        },
        {
          "output_type": "stream",
          "text": [
            "\n",
            " Test Batch  4  : Accuracy: 9 %\n"
          ],
          "name": "stdout"
        },
        {
          "output_type": "stream",
          "text": [
            "\n",
            "\n",
            "6it [00:01,  3.14it/s]\u001b[A\u001b[A"
          ],
          "name": "stderr"
        },
        {
          "output_type": "stream",
          "text": [
            "\n",
            " Test Batch  5  : Accuracy: 10 %\n",
            "\n",
            " Test Batch  6  : Accuracy: 9 %\n"
          ],
          "name": "stdout"
        },
        {
          "output_type": "stream",
          "text": [
            "\n",
            "\n",
            "7it [22:46, 195.30s/it]"
          ],
          "name": "stderr"
        },
        {
          "output_type": "stream",
          "text": [
            "\n",
            " Train Batch -   7 -- [250 250 250 250 250 250 250 250 250 250] Train Batch size:  2500\n",
            "Accuracy of the model on the train images: 14 % Epoch :  99 Mini Batch processed -  2450  / 2500\n"
          ],
          "name": "stdout"
        },
        {
          "output_type": "stream",
          "text": [
            "\n",
            "\n",
            "0it [00:00, ?it/s]\u001b[A\u001b[A\n",
            "\n",
            "1it [00:00,  1.17it/s]\u001b[A\u001b[A\n",
            "\n",
            "2it [00:01,  1.52it/s]\u001b[A\u001b[A"
          ],
          "name": "stderr"
        },
        {
          "output_type": "stream",
          "text": [
            "\n",
            " Test Batch  0  : Accuracy: 9 %\n",
            "\n",
            " Test Batch  1  : Accuracy: 8 %\n"
          ],
          "name": "stdout"
        },
        {
          "output_type": "stream",
          "text": [
            "\n",
            "\n",
            "3it [00:01,  1.93it/s]\u001b[A\u001b[A\n",
            "\n",
            "4it [00:01,  2.39it/s]\u001b[A\u001b[A"
          ],
          "name": "stderr"
        },
        {
          "output_type": "stream",
          "text": [
            "\n",
            " Test Batch  2  : Accuracy: 9 %\n",
            "\n",
            " Test Batch  3  : Accuracy: 9 %\n"
          ],
          "name": "stdout"
        },
        {
          "output_type": "stream",
          "text": [
            "\n",
            "\n",
            "5it [00:01,  2.79it/s]\u001b[A\u001b[A\n",
            "\n",
            "6it [00:01,  3.25it/s]\u001b[A\u001b[A"
          ],
          "name": "stderr"
        },
        {
          "output_type": "stream",
          "text": [
            "\n",
            " Test Batch  4  : Accuracy: 9 %\n",
            "\n",
            " Test Batch  5  : Accuracy: 10 %\n"
          ],
          "name": "stdout"
        },
        {
          "output_type": "stream",
          "text": [
            "\n",
            "\n",
            "7it [00:02,  3.71it/s]\u001b[A\u001b[A"
          ],
          "name": "stderr"
        },
        {
          "output_type": "stream",
          "text": [
            "\n",
            " Test Batch  6  : Accuracy: 9 %\n",
            "\n",
            " Test Batch  7  : Accuracy: 8 %\n"
          ],
          "name": "stdout"
        },
        {
          "output_type": "stream",
          "text": [
            "\r8it [25:45, 190.19s/it]"
          ],
          "name": "stderr"
        },
        {
          "output_type": "stream",
          "text": [
            "\n",
            " Train Batch -   8 -- [250 250 250 250 250 250 250 250 250 250] Train Batch size:  2500\n",
            "Accuracy of the model on the train images: 4 % Epoch :  99 Mini Batch processed -  2450  / 2500\n"
          ],
          "name": "stdout"
        },
        {
          "output_type": "stream",
          "text": [
            "\n",
            "\n",
            "\n",
            "0it [00:00, ?it/s]\u001b[A\u001b[A\u001b[A\n",
            "\n",
            "\n",
            "1it [00:00,  1.18it/s]\u001b[A\u001b[A\u001b[A"
          ],
          "name": "stderr"
        },
        {
          "output_type": "stream",
          "text": [
            "\n",
            " Test Batch  0  : Accuracy: 9 %\n"
          ],
          "name": "stdout"
        },
        {
          "output_type": "stream",
          "text": [
            "\n",
            "\n",
            "\n",
            "2it [00:01,  1.53it/s]\u001b[A\u001b[A\u001b[A"
          ],
          "name": "stderr"
        },
        {
          "output_type": "stream",
          "text": [
            "\n",
            " Test Batch  1  : Accuracy: 8 %\n"
          ],
          "name": "stdout"
        },
        {
          "output_type": "stream",
          "text": [
            "\n",
            "\n",
            "\n",
            "3it [00:01,  1.93it/s]\u001b[A\u001b[A\u001b[A\n",
            "\n",
            "\n",
            "4it [00:01,  2.37it/s]"
          ],
          "name": "stderr"
        },
        {
          "output_type": "stream",
          "text": [
            "\n",
            " Test Batch  2  : Accuracy: 9 %\n",
            "\n",
            " Test Batch  3  : Accuracy: 9 %\n"
          ],
          "name": "stdout"
        },
        {
          "output_type": "stream",
          "text": [
            "\u001b[A\u001b[A\u001b[A\n",
            "\n",
            "\n",
            "5it [00:01,  2.78it/s]\u001b[A\u001b[A\u001b[A\n",
            "\n",
            "\n",
            "6it [00:01,  3.24it/s]\u001b[A\u001b[A\u001b[A"
          ],
          "name": "stderr"
        },
        {
          "output_type": "stream",
          "text": [
            "\n",
            " Test Batch  4  : Accuracy: 9 %\n",
            "\n",
            " Test Batch  5  : Accuracy: 10 %\n"
          ],
          "name": "stdout"
        },
        {
          "output_type": "stream",
          "text": [
            "\n",
            "\n",
            "\n",
            "7it [00:02,  3.72it/s]\u001b[A\u001b[A\u001b[A\n",
            "\n",
            "\n",
            "8it [00:02,  4.13it/s]\u001b[A\u001b[A\u001b[A"
          ],
          "name": "stderr"
        },
        {
          "output_type": "stream",
          "text": [
            "\n",
            " Test Batch  6  : Accuracy: 9 %\n",
            "\n",
            " Test Batch  7  : Accuracy: 8 %\n",
            "\n",
            " Test Batch  8  : Accuracy: 10 %\n"
          ],
          "name": "stdout"
        },
        {
          "output_type": "stream",
          "text": [
            "\r9it [28:55, 190.12s/it]"
          ],
          "name": "stderr"
        },
        {
          "output_type": "stream",
          "text": [
            "\n",
            " Train Batch -   9 -- [250 250 250 250 250 250 250 250 250 250] Train Batch size:  2500\n",
            "Accuracy of the model on the train images: 10 % Epoch :  99 Mini Batch processed -  2450  / 2500\n"
          ],
          "name": "stdout"
        },
        {
          "output_type": "stream",
          "text": [
            "\n",
            "\n",
            "\n",
            "\n",
            "0it [00:00, ?it/s]\u001b[A\u001b[A\u001b[A\u001b[A\n",
            "\n",
            "\n",
            "\n",
            "1it [00:00,  1.17it/s]\u001b[A\u001b[A\u001b[A\u001b[A"
          ],
          "name": "stderr"
        },
        {
          "output_type": "stream",
          "text": [
            "\n",
            " Test Batch  0  : Accuracy: 9 %\n"
          ],
          "name": "stdout"
        },
        {
          "output_type": "stream",
          "text": [
            "\n",
            "\n",
            "\n",
            "\n",
            "2it [00:01,  1.52it/s]\u001b[A\u001b[A\u001b[A\u001b[A\n",
            "\n",
            "\n",
            "\n",
            "3it [00:01,  1.93it/s]\u001b[A\u001b[A\u001b[A\u001b[A"
          ],
          "name": "stderr"
        },
        {
          "output_type": "stream",
          "text": [
            "\n",
            " Test Batch  1  : Accuracy: 8 %\n",
            "\n",
            " Test Batch  2  : Accuracy: 9 %\n"
          ],
          "name": "stdout"
        },
        {
          "output_type": "stream",
          "text": [
            "\n",
            "\n",
            "\n",
            "\n",
            "4it [00:01,  2.34it/s]\u001b[A\u001b[A\u001b[A\u001b[A\n",
            "\n",
            "\n",
            "\n",
            "5it [00:01,  2.83it/s]\u001b[A\u001b[A\u001b[A\u001b[A"
          ],
          "name": "stderr"
        },
        {
          "output_type": "stream",
          "text": [
            "\n",
            " Test Batch  3  : Accuracy: 9 %\n",
            "\n",
            " Test Batch  4  : Accuracy: 9 %\n"
          ],
          "name": "stdout"
        },
        {
          "output_type": "stream",
          "text": [
            "\n",
            "\n",
            "\n",
            "\n",
            "6it [00:01,  3.27it/s]\u001b[A\u001b[A\u001b[A\u001b[A\n",
            "\n",
            "\n",
            "\n",
            "7it [00:02,  3.76it/s]\u001b[A\u001b[A\u001b[A\u001b[A"
          ],
          "name": "stderr"
        },
        {
          "output_type": "stream",
          "text": [
            "\n",
            " Test Batch  5  : Accuracy: 10 %\n",
            "\n",
            " Test Batch  6  : Accuracy: 9 %\n"
          ],
          "name": "stdout"
        },
        {
          "output_type": "stream",
          "text": [
            "\n",
            "\n",
            "\n",
            "\n",
            "8it [00:02,  4.17it/s]\u001b[A\u001b[A\u001b[A\u001b[A\n",
            "\n",
            "\n",
            "\n",
            "9it [00:02,  4.52it/s]\u001b[A\u001b[A\u001b[A\u001b[A"
          ],
          "name": "stderr"
        },
        {
          "output_type": "stream",
          "text": [
            "\n",
            " Test Batch  7  : Accuracy: 8 %\n",
            "\n",
            " Test Batch  8  : Accuracy: 10 %\n",
            "\n",
            " Test Batch  9  : Accuracy: 9 %\n"
          ],
          "name": "stdout"
        },
        {
          "output_type": "stream",
          "text": [
            "\r10it [32:05, 190.08s/it]"
          ],
          "name": "stderr"
        },
        {
          "output_type": "stream",
          "text": [
            "\n",
            " Train Batch -   10 -- [250 250 250 250 250 250 250 250 250 250] Train Batch size:  2500\n",
            "Accuracy of the model on the train images: 12 % Epoch :  99 Mini Batch processed -  2450  / 2500\n"
          ],
          "name": "stdout"
        },
        {
          "output_type": "stream",
          "text": [
            "\n",
            "\n",
            "\n",
            "\n",
            "\n",
            "0it [00:00, ?it/s]\u001b[A\u001b[A\u001b[A\u001b[A\u001b[A\n",
            "\n",
            "\n",
            "\n",
            "\n",
            "1it [00:00,  1.14it/s]\u001b[A\u001b[A\u001b[A\u001b[A\u001b[A\n",
            "\n",
            "\n",
            "\n",
            "\n"
          ],
          "name": "stderr"
        },
        {
          "output_type": "stream",
          "text": [
            "\n",
            " Test Batch  0  : Accuracy: 9 %\n",
            "\n",
            " Test Batch  1  : Accuracy: 8 %\n"
          ],
          "name": "stdout"
        },
        {
          "output_type": "stream",
          "text": [
            "\r2it [00:01,  1.48it/s]\u001b[A\u001b[A\u001b[A\u001b[A\u001b[A\n",
            "\n",
            "\n",
            "\n",
            "\n",
            "3it [00:01,  1.87it/s]\u001b[A\u001b[A\u001b[A\u001b[A\u001b[A\n",
            "\n",
            "\n",
            "\n",
            "\n",
            "4it [00:01,  2.31it/s]\u001b[A\u001b[A\u001b[A\u001b[A\u001b[A"
          ],
          "name": "stderr"
        },
        {
          "output_type": "stream",
          "text": [
            "\n",
            " Test Batch  2  : Accuracy: 9 %\n",
            "\n",
            " Test Batch  3  : Accuracy: 9 %\n"
          ],
          "name": "stdout"
        },
        {
          "output_type": "stream",
          "text": [
            "\n",
            "\n",
            "\n",
            "\n",
            "\n",
            "5it [00:01,  2.78it/s]\u001b[A\u001b[A\u001b[A\u001b[A\u001b[A\n",
            "\n",
            "\n",
            "\n",
            "\n",
            "6it [00:01,  3.27it/s]\u001b[A\u001b[A\u001b[A\u001b[A\u001b[A"
          ],
          "name": "stderr"
        },
        {
          "output_type": "stream",
          "text": [
            "\n",
            " Test Batch  4  : Accuracy: 9 %\n",
            "\n",
            " Test Batch  5  : Accuracy: 10 %\n"
          ],
          "name": "stdout"
        },
        {
          "output_type": "stream",
          "text": [
            "\n",
            "\n",
            "\n",
            "\n",
            "\n",
            "7it [00:02,  3.74it/s]\u001b[A\u001b[A\u001b[A\u001b[A\u001b[A\n",
            "\n",
            "\n",
            "\n",
            "\n",
            "8it [00:02,  4.17it/s]\u001b[A\u001b[A\u001b[A\u001b[A\u001b[A"
          ],
          "name": "stderr"
        },
        {
          "output_type": "stream",
          "text": [
            "\n",
            " Test Batch  6  : Accuracy: 9 %\n",
            "\n",
            " Test Batch  7  : Accuracy: 8 %\n"
          ],
          "name": "stdout"
        },
        {
          "output_type": "stream",
          "text": [
            "\n",
            "\n",
            "\n",
            "\n",
            "\n",
            "9it [00:02,  4.47it/s]\u001b[A\u001b[A\u001b[A\u001b[A\u001b[A\n",
            "\n",
            "\n",
            "\n",
            "\n",
            "10it [00:02,  4.77it/s]\u001b[A\u001b[A\u001b[A\u001b[A\u001b[A"
          ],
          "name": "stderr"
        },
        {
          "output_type": "stream",
          "text": [
            "\n",
            " Test Batch  8  : Accuracy: 10 %\n",
            "\n",
            " Test Batch  9  : Accuracy: 9 %\n",
            "\n",
            " Test Batch  10  : Accuracy: 9 %\n"
          ],
          "name": "stdout"
        },
        {
          "output_type": "stream",
          "text": [
            "\r11it [35:04, 186.74s/it]"
          ],
          "name": "stderr"
        }
      ]
    },
    {
      "cell_type": "code",
      "metadata": {
        "id": "q_5-UmDNnB4P",
        "colab_type": "code",
        "colab": {}
      },
      "source": [
        "\n",
        "i = 0\n",
        "dict_result = {}\n",
        "list_result = []\n",
        "for key in result:\n",
        "    list_result.append(result[key])\n",
        "    \n",
        "    if(key == i):\n",
        "        dict_result[i] = list_result\n",
        "        list_result = []\n",
        "        i= i + 1\n",
        "\n",
        "dict_result[i] = list_result\n",
        "            "
      ],
      "execution_count": 0,
      "outputs": []
    },
    {
      "cell_type": "code",
      "metadata": {
        "id": "P8tb-0Tx5paS",
        "colab_type": "code",
        "outputId": "c4166312-d1e3-4dae-9669-945aad1efab7",
        "colab": {
          "base_uri": "https://localhost:8080/",
          "height": 272
        }
      },
      "source": [
        "print(pd.DataFrame.from_dict(dict_result, orient='index'))"
      ],
      "execution_count": 0,
      "outputs": [
        {
          "output_type": "stream",
          "text": [
            "                             0  ...                          10\n",
            "0                 test_batch_0  ...                        None\n",
            "1   tensor(9, device='cuda:0')  ...                        None\n",
            "2   tensor(9, device='cuda:0')  ...                        None\n",
            "3   tensor(9, device='cuda:0')  ...                        None\n",
            "4   tensor(9, device='cuda:0')  ...                        None\n",
            "5   tensor(9, device='cuda:0')  ...                        None\n",
            "6   tensor(9, device='cuda:0')  ...                        None\n",
            "7   tensor(9, device='cuda:0')  ...                        None\n",
            "8   tensor(9, device='cuda:0')  ...                        None\n",
            "9   tensor(9, device='cuda:0')  ...                        None\n",
            "10  tensor(9, device='cuda:0')  ...               test_batch_10\n",
            "11  tensor(9, device='cuda:0')  ...  tensor(9, device='cuda:0')\n",
            "\n",
            "[12 rows x 11 columns]\n"
          ],
          "name": "stdout"
        }
      ]
    },
    {
      "cell_type": "code",
      "metadata": {
        "id": "geCujoJ4nWC2",
        "colab_type": "code",
        "colab": {}
      },
      "source": [
        "pd.DataFrame.from_dict(dict_result, orient='index').to_csv(penalty_ + '_results.csv')"
      ],
      "execution_count": 0,
      "outputs": []
    }
  ]
}